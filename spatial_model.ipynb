{
 "cells": [
  {
   "cell_type": "code",
   "execution_count": 31,
   "id": "ee0a7555-efc1-46e9-af98-f539a8740e4f",
   "metadata": {
    "tags": []
   },
   "outputs": [],
   "source": [
    "import numpy as np\n",
    "import matplotlib.pyplot as plt\n",
    "import pandas as pd\n",
    "import scipy.stats as stats\n",
    "import seaborn as sns"
   ]
  },
  {
   "cell_type": "code",
   "execution_count": 35,
   "id": "bd4da47f-2c4e-4ad6-9b5c-8dd81ec3fcaa",
   "metadata": {
    "tags": []
   },
   "outputs": [],
   "source": [
    "class COVID19GeoSpatialModel:\n",
    "    def __init__(self):\n",
    "        \"\"\"\n",
    "        TODO: Initialize model parameters\n",
    "        self.populations: population in each grid\n",
    "        self.high_income_proportion: proportion of high income population\n",
    "        self.activity_rates: activity rates for each cell (mobility)\n",
    "        self.epsilon: intercell vs. intracell transmission trade-off\n",
    "        self.race_distribution\n",
    "        self.ses_distribution: social economic distribution\n",
    "        self.q_base: base transmission probability\n",
    "        self.activity_weighted_sum:\n",
    "        self.q_i: contact in D_i becomes a tranmission\n",
    "        \"\"\"\n",
    "        self.populations, self.high_income_proportion = self.initialize_grid_parameters()\n",
    "        \n",
    "        self.activity_rates = [1.0 for _ in range(9)]\n",
    "        self.epsilon = 0.5\n",
    "        \n",
    "        self.race_distribution, self.ses_distribution = self.initialize_race_ses_parameters()\n",
    "        \n",
    "        self.q_base = 0.05  \n",
    "        self.activity_weighted_sum = self.calculate_activity_weighted_sum()\n",
    "        self.q_i = self.estimate_transmission_probability()\n",
    "\n",
    "    def initialize_grid_parameters(self):\n",
    "        populations = [1000, 1200, 1400, 1600, 1800, 2000, 2200, 2400, 2600] # random choose values, will be adjusted based on Michigan county data\n",
    "        high_income_proportion = 0.4 # random choose value\n",
    "        return populations, high_income_proportion\n",
    "\n",
    "    def initialize_race_ses_parameters(self):\n",
    "        # define race and SES distributions for each cell\n",
    "        # upon to adjust based on ACS or US Census information\n",
    "        # now we assume equal distribution among 3 races and 3 SES\n",
    "        race_dist = np.full((9, 3), 1/3)  \n",
    "        ses_dist = np.full((9, 3), 1/3) \n",
    "        return race_dist, ses_dist\n",
    "\n",
    "    def calculate_activity_weighted_sum(self):\n",
    "        return sum(a * N for a, N in zip(self.activity_rates, self.populations))\n",
    "\n",
    "    def estimate_transmission_probability(self):\n",
    "        # should be adjusted to a logistic regression for q_i\n",
    "        # based on race and SES\n",
    "        # assume for simplicity for now\n",
    "        q_i = [self.q_base for _ in range(9)]  \n",
    "        return q_i\n",
    "\n",
    "    def calculate_transmission_rate(self, i, j):\n",
    "        # maybe make this part more structured and easy to understand. \n",
    "        if i != j:\n",
    "            beta = (1 - self.epsilon) * self.q_i[i] * (self.activity_rates[i] * self.activity_rates[j]) / self.activity_weighted_sum\n",
    "        else:\n",
    "            beta = ((1 - self.epsilon) * self.q_i[i] * (self.activity_rates[i] ** 2) / self.activity_weighted_sum) + \\\n",
    "                   (self.epsilon * self.q_i[i] * self.activity_rates[i] / self.populations[i])\n",
    "        return beta\n",
    "\n",
    "    def run_simulation(self):\n",
    "        beta_example = self.calculate_transmission_rate(0, 1)\n",
    "        print(f\"Example Transmission Rate (D_1 to D_2): {beta_example}\")\n",
    "        self.grid_plot()\n",
    "\n",
    "    def grid_plot(self):\n",
    "        beta_matrix = np.zeros((3, 3))\n",
    "        for i in range(3):\n",
    "            for j in range(3):\n",
    "                beta_matrix[i, j] = self.calculate_transmission_rate(i * 3 + j, i * 3 + j)\n",
    "        sns.heatmap(beta_matrix, annot=True, fmt=\".6f\", cmap=\"viridis\")\n",
    "        plt.title(\"Intracell Transmission Rates\")\n",
    "        plt.show()"
   ]
  },
  {
   "cell_type": "code",
   "execution_count": 34,
   "id": "a4a5f60a-e105-48be-8a0b-d25e1a47cc66",
   "metadata": {
    "tags": []
   },
   "outputs": [
    {
     "name": "stdout",
     "output_type": "stream",
     "text": [
      "Example Transmission Rate (D_1 to D_2): 1.54320987654321e-06\n"
     ]
    },
    {
     "data": {
      "image/png": "[encoded data removed]",
      "text/plain": [
       "<Figure size 640x480 with 2 Axes>"
      ]
     },
     "metadata": {},
     "output_type": "display_data"
    }
   ],
   "source": [
    "model = COVID19GeoSpatialModel()\n",
    "model.run_simulation() # not sure why only first row displayed"
   ]
  },
  {
   "cell_type": "code",
   "execution_count": null,
   "id": "87d87859-10be-4e65-bd90-60959d49ad83",
   "metadata": {
    "tags": []
   },
   "outputs": [],
   "source": []
  },
  {
   "cell_type": "code",
   "execution_count": null,
   "id": "6b58105d-7311-4132-883f-a7e3866fb910",
   "metadata": {},
   "outputs": [],
   "source": []
  }
 ],
 "metadata": {
  "kernelspec": {
   "display_name": "Python 3 (ipykernel)",
   "language": "python",
   "name": "python3"
  },
  "language_info": {
   "codemirror_mode": {
    "name": "ipython",
    "version": 3
   },
   "file_extension": ".py",
   "mimetype": "text/x-python",
   "name": "python",
   "nbconvert_exporter": "python",
   "pygments_lexer": "ipython3",
   "version": "3.11.5"
  }
 },
 "nbformat": 4,
 "nbformat_minor": 5
}
