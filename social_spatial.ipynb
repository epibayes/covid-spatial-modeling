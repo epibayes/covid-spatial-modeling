{
 "cells": [
  {
   "cell_type": "code",
   "execution_count": null,
   "metadata": {},
   "outputs": [],
   "source": [
    "import numpy as np\n",
    "from scipy import integrate\n",
    "import matplotlib.pyplot as plt"
   ]
  },
  {
   "cell_type": "code",
   "execution_count": null,
   "metadata": {},
   "outputs": [],
   "source": [
    "class SocialSpatialModel:\n",
    "    def __init__(self, grid_size, subpopulatons, n_infected, contact_rates, vulnerabilities, exposure_rate, recovery_rate):\n",
    "        self.m = grid_size # grid will be of shape m x m\n",
    "        self.N_k = subpopulatons # m^2 vector\n",
    "        self.I_0 = n_infected #m^2 vector\n",
    "        self.A = contact_rates\n",
    "        self.Q = vulnerabilities # assumes we have already run logistic social vulnerability model\n",
    "        self.alpha = exposure_rate\n",
    "        self.gamma = recovery_rate\n",
    "        self.B = self.compute_beta()\n",
    "\n",
    "    def compute_beta(self):\n",
    "        # return a N2 x N2 matrix of transmission rates\n",
    "        pass\n",
    "\n",
    "    def get_initial_state(self):\n",
    "        # need to return X where X = (S, E, I, R)\n",
    "        S0 = self.N_k - self.n_infected\n",
    "        E0 = np.zeros(self.m)\n",
    "        I0 = self.n_infected\n",
    "        R0 = np.zeros(self.m)\n",
    "        return (S0, E0, I0, R0)"
   ]
  },
  {
   "cell_type": "code",
   "execution_count": null,
   "metadata": {},
   "outputs": [],
   "source": [
    "def derivative(X, t, B, alpha, gamma):\n",
    "    # this ODE is constant across t\n",
    "    S, E, I, R = X # each state is a *flattened* N x N matrix\n",
    "    # so really, a N^2 x 1 vector\n",
    "    dsdt = - B @ I * S\n",
    "    dedt = B @ I * S - alpha * E\n",
    "    didt = alpha * E - gamma * I\n",
    "    drdt = gamma * I\n",
    "    return np.concatenate([dsdt, dedt, didt, drdt]) # this should be a vector of length m^2 * 4"
   ]
  },
  {
   "cell_type": "code",
   "execution_count": null,
   "metadata": {},
   "outputs": [],
   "source": [
    "t = np.linspace(0, 180, 2000) # whatever makes sense\n",
    "simulation = SocialSpatialModel() # need to pass in parameters\n",
    "solution = integrate.odeint(\n",
    "    func = derivative, \n",
    "    y0 = simulation.get_initial_state(),\n",
    "    t = t,\n",
    "    args=(simulation.B, simulation.alpha, simulation.gamma)\n",
    ").T\n",
    "# solution will be of shape (m^2 * 4, T)\n",
    "\n",
    "S = solution[:m**2, :]\n",
    "E = solution[m**2:2*m**2, :]\n",
    "I = solution[2*m**2:3*m**2, :]\n",
    "R = solution[3*m**2:, :]"
   ]
  }
 ],
 "metadata": {
  "kernelspec": {
   "display_name": "research",
   "language": "python",
   "name": "python3"
  },
  "language_info": {
   "codemirror_mode": {
    "name": "ipython",
    "version": 3
   },
   "file_extension": ".py",
   "mimetype": "text/x-python",
   "name": "python",
   "nbconvert_exporter": "python",
   "pygments_lexer": "ipython3",
   "version": "3.11.7"
  }
 },
 "nbformat": 4,
 "nbformat_minor": 2
}
