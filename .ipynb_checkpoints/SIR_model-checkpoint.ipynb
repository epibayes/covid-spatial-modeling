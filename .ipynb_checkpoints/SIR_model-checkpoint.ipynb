{
 "cells": [
  {
   "cell_type": "code",
   "execution_count": 1,
   "id": "08d5a737-7ca1-45cf-b6e7-c2791fc085a5",
   "metadata": {
    "tags": []
   },
   "outputs": [],
   "source": [
    "import numpy as np\n",
    "import matplotlib.pyplot as plt\n",
    "import pandas as pd"
   ]
  },
  {
   "cell_type": "code",
   "execution_count": 2,
   "id": "520cdad9-5941-4ef1-9c28-bfaf801b672e",
   "metadata": {
    "tags": []
   },
   "outputs": [],
   "source": [
    "class SIR_model():\n",
    "    def __init__(self, timesteps, pop_size, prop_init_infected, beta, gamma):\n",
    "        self.T = timesteps\n",
    "        self.N = pop_size\n",
    "        self.p_I0  = prop_init_infected\n",
    "        self.beta = beta # transmission rate\n",
    "        self.gamma = gamma # average rate of recovery (cases / timesteps)\n",
    "\n",
    "\n",
    "\n",
    "    def simulate(self):\n",
    "        S = np.zeros(self.T)\n",
    "        I = np.zeros(self.T)\n",
    "        R = np.zeros(self.T)\n",
    "        \n",
    "        I[0] = int(self.p_I0 * self.N)\n",
    "        R[0] = 0\n",
    "        S[0] = self.N - I[0]\n",
    "        for t in range(1, self.T):\n",
    "            S[t] = S[t-1] - int(self.beta * I[t-1] * S[t-1] / self.N)\n",
    "            I[t] = I[t-1] + int(self.beta * I[t-1] * S[t-1] / self.N) - int(self.gamma * I[t-1])\n",
    "            R[t] = R[t-1] + int(self.gamma * I[t-1])\n",
    "\n",
    "        return S, I, R"
   ]
  },
  {
   "cell_type": "code",
   "execution_count": 3,
   "id": "fa1782d3-5d79-4e65-9e53-c0063d2a07c6",
   "metadata": {
    "tags": []
   },
   "outputs": [],
   "source": [
    "sir = SIR_model(20, 100, 0.2, .1, .1)\n",
    "S, I, R = sir.simulate()"
   ]
  },
  {
   "cell_type": "markdown",
   "id": "7a5e612b-8149-4829-b625-c7f7b894579a",
   "metadata": {},
   "source": [
    "What is $\\beta$? A combination of how many people are contacted per day (contact rate) and how likely a sick person is to transmit the disease (force of infection)"
   ]
  },
  {
   "cell_type": "code",
   "execution_count": 14,
   "id": "b34ffbb7-7b82-4f03-9431-b84584258978",
   "metadata": {
    "tags": []
   },
   "outputs": [],
   "source": [
    "# sir = SIR_model()\n",
    "# https://jckantor.github.io/CBE30338/03.09-COVID-19.html\n",
    "# infection period (1/gamma) is 8.4 days\n",
    "# R_o is 2.4 (beta / gamma) or (recovery_time / time_between contacts)\n",
    "# avg. number of people infected by a hypothetical case in a fully susceptible population\n",
    "# think: "
   ]
  },
  {
   "cell_type": "code",
   "execution_count": null,
   "id": "f4dbcda3-a816-4546-bc6a-848cb79d2e40",
   "metadata": {},
   "outputs": [],
   "source": [
    "\"plt.plot(x, model.S / N, label=\\\"Susceptible\\\")\\n\",\n",
    "\"plt.plot(x, model.I/N, label=\\\"Infected\\\")\\n\",\n",
    "\"plt.ylim(0, 1.1)\\n\",\n",
    "\"plt.legend(loc=\\\"upper right\\\")\\n\",\n",
    "\"plt.show()\""
   ]
  },
  {
   "cell_type": "code",
   "execution_count": 4,
   "id": "26aaa5b3-1287-4c98-9176-2962fe4a267e",
   "metadata": {
    "tags": []
   },
   "outputs": [],
   "source": [
    "# english boarding school flu epidemic\n",
    "df = pd.read_csv(\"https://bit.ly/2vDqAYN\", sep=\"\\t\")\n",
    "# N = 763\n",
    "# R_0 between 1 and 2\n",
    "# infection period: ballpark 5-7 days"
   ]
  },
  {
   "cell_type": "code",
   "execution_count": 15,
   "id": "7438d7df-873f-4bed-b5cb-b87e2324bc37",
   "metadata": {
    "tags": []
   },
   "outputs": [
    {
     "data": {
      "text/html": [
       "<div>\n",
       "<style scoped>\n",
       "    .dataframe tbody tr th:only-of-type {\n",
       "        vertical-align: middle;\n",
       "    }\n",
       "\n",
       "    .dataframe tbody tr th {\n",
       "        vertical-align: top;\n",
       "    }\n",
       "\n",
       "    .dataframe thead th {\n",
       "        text-align: right;\n",
       "    }\n",
       "</style>\n",
       "<table border=\"1\" class=\"dataframe\">\n",
       "  <thead>\n",
       "    <tr style=\"text-align: right;\">\n",
       "      <th></th>\n",
       "      <th>day</th>\n",
       "      <th>cases</th>\n",
       "    </tr>\n",
       "  </thead>\n",
       "  <tbody>\n",
       "    <tr>\n",
       "      <th>0</th>\n",
       "      <td>0</td>\n",
       "      <td>1</td>\n",
       "    </tr>\n",
       "    <tr>\n",
       "      <th>1</th>\n",
       "      <td>1</td>\n",
       "      <td>6</td>\n",
       "    </tr>\n",
       "    <tr>\n",
       "      <th>2</th>\n",
       "      <td>2</td>\n",
       "      <td>26</td>\n",
       "    </tr>\n",
       "    <tr>\n",
       "      <th>3</th>\n",
       "      <td>3</td>\n",
       "      <td>73</td>\n",
       "    </tr>\n",
       "    <tr>\n",
       "      <th>4</th>\n",
       "      <td>4</td>\n",
       "      <td>222</td>\n",
       "    </tr>\n",
       "    <tr>\n",
       "      <th>5</th>\n",
       "      <td>5</td>\n",
       "      <td>293</td>\n",
       "    </tr>\n",
       "    <tr>\n",
       "      <th>6</th>\n",
       "      <td>6</td>\n",
       "      <td>258</td>\n",
       "    </tr>\n",
       "    <tr>\n",
       "      <th>7</th>\n",
       "      <td>7</td>\n",
       "      <td>236</td>\n",
       "    </tr>\n",
       "    <tr>\n",
       "      <th>8</th>\n",
       "      <td>8</td>\n",
       "      <td>191</td>\n",
       "    </tr>\n",
       "    <tr>\n",
       "      <th>9</th>\n",
       "      <td>9</td>\n",
       "      <td>124</td>\n",
       "    </tr>\n",
       "    <tr>\n",
       "      <th>10</th>\n",
       "      <td>10</td>\n",
       "      <td>69</td>\n",
       "    </tr>\n",
       "    <tr>\n",
       "      <th>11</th>\n",
       "      <td>11</td>\n",
       "      <td>26</td>\n",
       "    </tr>\n",
       "    <tr>\n",
       "      <th>12</th>\n",
       "      <td>12</td>\n",
       "      <td>11</td>\n",
       "    </tr>\n",
       "    <tr>\n",
       "      <th>13</th>\n",
       "      <td>13</td>\n",
       "      <td>4</td>\n",
       "    </tr>\n",
       "  </tbody>\n",
       "</table>\n",
       "</div>"
      ],
      "text/plain": [
       "    day  cases\n",
       "0     0      1\n",
       "1     1      6\n",
       "2     2     26\n",
       "3     3     73\n",
       "4     4    222\n",
       "5     5    293\n",
       "6     6    258\n",
       "7     7    236\n",
       "8     8    191\n",
       "9     9    124\n",
       "10   10     69\n",
       "11   11     26\n",
       "12   12     11\n",
       "13   13      4"
      ]
     },
     "execution_count": 15,
     "metadata": {},
     "output_type": "execute_result"
    }
   ],
   "source": [
    "df"
   ]
  },
  {
   "cell_type": "code",
   "execution_count": 6,
   "id": "0cfceb69-d0c5-4c68-b010-17463e5bf751",
   "metadata": {},
   "outputs": [
    {
     "data": {
      "image/png": "[encoded data removed]",
      "text/plain": [
       "<Figure size 640x480 with 1 Axes>"
      ]
     },
     "metadata": {},
     "output_type": "display_data"
    }
   ],
   "source": [
    "N = 763\n",
    "\n",
    "# initial infected proportion\n",
    "p_I0 = df['cases'][2] / N # initial number of infecteds is quite small\n",
    "\n",
    "# transmission rate (beta) and recovery rate (gamma)\n",
    "beta = 0.3\n",
    "gamma = 0.3\n",
    "\n",
    "sir = SIR_model(len(df), N, p_I0, beta, gamma)\n",
    "\n",
    "S, I, R = sir.simulate()\n",
    "\n",
    "\n",
    "plt.figure()\n",
    "plt.grid()\n",
    "plt.title(\"SIR Model Simulation\")\n",
    "plt.plot(df['day'], S, 'orange', label='Susceptible')\n",
    "plt.plot(df['day'], I, 'r', label='Infected')\n",
    "plt.plot(df['day'], R, 'g', label='Recovered with immunity')\n",
    "plt.xlabel('Time t [days]')\n",
    "plt.ylabel('Number of Individuals')\n",
    "plt.ylim([0, N])\n",
    "plt.legend()\n",
    "plt.show()"
   ]
  },
  {
   "cell_type": "code",
   "execution_count": 8,
   "id": "34a9ef11-2275-4d93-b880-919285c07ac6",
   "metadata": {},
   "outputs": [
    {
     "data": {
      "text/plain": [
       "array([737., 730., 723., 716., 709., 702., 695., 688., 681., 675., 669.,\n",
       "       663., 658., 653.])"
      ]
     },
     "execution_count": 8,
     "metadata": {},
     "output_type": "execute_result"
    }
   ],
   "source": [
    "S"
   ]
  },
  {
   "cell_type": "markdown",
   "id": "f955a8bb-147c-4529-80da-cc88ef62efaa",
   "metadata": {},
   "source": [
    "## Michigan Data (without county)"
   ]
  },
  {
   "cell_type": "code",
   "execution_count": 9,
   "id": "5d1b7bb6-9474-48ca-a875-4fcb0c42d74b",
   "metadata": {
    "tags": []
   },
   "outputs": [],
   "source": [
    "michigan = pd.read_csv(\"michigan-history.csv\")"
   ]
  },
  {
   "cell_type": "code",
   "execution_count": 10,
   "id": "1b73dffa-1133-4308-a514-bc041aad1bf3",
   "metadata": {
    "tags": []
   },
   "outputs": [
    {
     "data": {
      "text/html": [
       "<div>\n",
       "<style scoped>\n",
       "    .dataframe tbody tr th:only-of-type {\n",
       "        vertical-align: middle;\n",
       "    }\n",
       "\n",
       "    .dataframe tbody tr th {\n",
       "        vertical-align: top;\n",
       "    }\n",
       "\n",
       "    .dataframe thead th {\n",
       "        text-align: right;\n",
       "    }\n",
       "</style>\n",
       "<table border=\"1\" class=\"dataframe\">\n",
       "  <thead>\n",
       "    <tr style=\"text-align: right;\">\n",
       "      <th></th>\n",
       "      <th>date</th>\n",
       "      <th>state</th>\n",
       "      <th>death</th>\n",
       "      <th>deathConfirmed</th>\n",
       "      <th>deathIncrease</th>\n",
       "      <th>deathProbable</th>\n",
       "      <th>hospitalized</th>\n",
       "      <th>hospitalizedCumulative</th>\n",
       "      <th>hospitalizedCurrently</th>\n",
       "      <th>hospitalizedIncrease</th>\n",
       "      <th>...</th>\n",
       "      <th>totalTestResults</th>\n",
       "      <th>totalTestResultsIncrease</th>\n",
       "      <th>totalTestsAntibody</th>\n",
       "      <th>totalTestsAntigen</th>\n",
       "      <th>totalTestsPeopleAntibody</th>\n",
       "      <th>totalTestsPeopleAntigen</th>\n",
       "      <th>totalTestsPeopleViral</th>\n",
       "      <th>totalTestsPeopleViralIncrease</th>\n",
       "      <th>totalTestsViral</th>\n",
       "      <th>totalTestsViralIncrease</th>\n",
       "    </tr>\n",
       "  </thead>\n",
       "  <tbody>\n",
       "    <tr>\n",
       "      <th>0</th>\n",
       "      <td>2021-03-07</td>\n",
       "      <td>MI</td>\n",
       "      <td>16658.0</td>\n",
       "      <td>15666</td>\n",
       "      <td>0</td>\n",
       "      <td>992</td>\n",
       "      <td>NaN</td>\n",
       "      <td>NaN</td>\n",
       "      <td>866.0</td>\n",
       "      <td>0</td>\n",
       "      <td>...</td>\n",
       "      <td>10621967.0</td>\n",
       "      <td>0</td>\n",
       "      <td>537073.0</td>\n",
       "      <td>NaN</td>\n",
       "      <td>NaN</td>\n",
       "      <td>NaN</td>\n",
       "      <td>NaN</td>\n",
       "      <td>0</td>\n",
       "      <td>10621967.0</td>\n",
       "      <td>0</td>\n",
       "    </tr>\n",
       "    <tr>\n",
       "      <th>1</th>\n",
       "      <td>2021-03-06</td>\n",
       "      <td>MI</td>\n",
       "      <td>16658.0</td>\n",
       "      <td>15666</td>\n",
       "      <td>57</td>\n",
       "      <td>992</td>\n",
       "      <td>NaN</td>\n",
       "      <td>NaN</td>\n",
       "      <td>866.0</td>\n",
       "      <td>0</td>\n",
       "      <td>...</td>\n",
       "      <td>10621967.0</td>\n",
       "      <td>37232</td>\n",
       "      <td>537073.0</td>\n",
       "      <td>NaN</td>\n",
       "      <td>NaN</td>\n",
       "      <td>NaN</td>\n",
       "      <td>NaN</td>\n",
       "      <td>0</td>\n",
       "      <td>10621967.0</td>\n",
       "      <td>37232</td>\n",
       "    </tr>\n",
       "    <tr>\n",
       "      <th>2</th>\n",
       "      <td>2021-03-05</td>\n",
       "      <td>MI</td>\n",
       "      <td>16601.0</td>\n",
       "      <td>15610</td>\n",
       "      <td>12</td>\n",
       "      <td>991</td>\n",
       "      <td>NaN</td>\n",
       "      <td>NaN</td>\n",
       "      <td>866.0</td>\n",
       "      <td>0</td>\n",
       "      <td>...</td>\n",
       "      <td>10584735.0</td>\n",
       "      <td>46112</td>\n",
       "      <td>535084.0</td>\n",
       "      <td>NaN</td>\n",
       "      <td>NaN</td>\n",
       "      <td>NaN</td>\n",
       "      <td>NaN</td>\n",
       "      <td>0</td>\n",
       "      <td>10584735.0</td>\n",
       "      <td>46112</td>\n",
       "    </tr>\n",
       "    <tr>\n",
       "      <th>3</th>\n",
       "      <td>2021-03-04</td>\n",
       "      <td>MI</td>\n",
       "      <td>16589.0</td>\n",
       "      <td>15600</td>\n",
       "      <td>39</td>\n",
       "      <td>989</td>\n",
       "      <td>NaN</td>\n",
       "      <td>NaN</td>\n",
       "      <td>890.0</td>\n",
       "      <td>0</td>\n",
       "      <td>...</td>\n",
       "      <td>10538623.0</td>\n",
       "      <td>46486</td>\n",
       "      <td>532658.0</td>\n",
       "      <td>NaN</td>\n",
       "      <td>NaN</td>\n",
       "      <td>NaN</td>\n",
       "      <td>NaN</td>\n",
       "      <td>0</td>\n",
       "      <td>10538623.0</td>\n",
       "      <td>46486</td>\n",
       "    </tr>\n",
       "    <tr>\n",
       "      <th>4</th>\n",
       "      <td>2021-03-03</td>\n",
       "      <td>MI</td>\n",
       "      <td>16550.0</td>\n",
       "      <td>15563</td>\n",
       "      <td>6</td>\n",
       "      <td>987</td>\n",
       "      <td>NaN</td>\n",
       "      <td>NaN</td>\n",
       "      <td>882.0</td>\n",
       "      <td>0</td>\n",
       "      <td>...</td>\n",
       "      <td>10492137.0</td>\n",
       "      <td>36453</td>\n",
       "      <td>530799.0</td>\n",
       "      <td>NaN</td>\n",
       "      <td>NaN</td>\n",
       "      <td>NaN</td>\n",
       "      <td>NaN</td>\n",
       "      <td>0</td>\n",
       "      <td>10492137.0</td>\n",
       "      <td>36453</td>\n",
       "    </tr>\n",
       "  </tbody>\n",
       "</table>\n",
       "<p>5 rows × 41 columns</p>\n",
       "</div>"
      ],
      "text/plain": [
       "         date state    death  deathConfirmed  deathIncrease  deathProbable  \\\n",
       "0  2021-03-07    MI  16658.0           15666              0            992   \n",
       "1  2021-03-06    MI  16658.0           15666             57            992   \n",
       "2  2021-03-05    MI  16601.0           15610             12            991   \n",
       "3  2021-03-04    MI  16589.0           15600             39            989   \n",
       "4  2021-03-03    MI  16550.0           15563              6            987   \n",
       "\n",
       "   hospitalized  hospitalizedCumulative  hospitalizedCurrently  \\\n",
       "0           NaN                     NaN                  866.0   \n",
       "1           NaN                     NaN                  866.0   \n",
       "2           NaN                     NaN                  866.0   \n",
       "3           NaN                     NaN                  890.0   \n",
       "4           NaN                     NaN                  882.0   \n",
       "\n",
       "   hospitalizedIncrease  ...  totalTestResults  totalTestResultsIncrease  \\\n",
       "0                     0  ...        10621967.0                         0   \n",
       "1                     0  ...        10621967.0                     37232   \n",
       "2                     0  ...        10584735.0                     46112   \n",
       "3                     0  ...        10538623.0                     46486   \n",
       "4                     0  ...        10492137.0                     36453   \n",
       "\n",
       "   totalTestsAntibody  totalTestsAntigen  totalTestsPeopleAntibody  \\\n",
       "0            537073.0                NaN                       NaN   \n",
       "1            537073.0                NaN                       NaN   \n",
       "2            535084.0                NaN                       NaN   \n",
       "3            532658.0                NaN                       NaN   \n",
       "4            530799.0                NaN                       NaN   \n",
       "\n",
       "   totalTestsPeopleAntigen  totalTestsPeopleViral  \\\n",
       "0                      NaN                    NaN   \n",
       "1                      NaN                    NaN   \n",
       "2                      NaN                    NaN   \n",
       "3                      NaN                    NaN   \n",
       "4                      NaN                    NaN   \n",
       "\n",
       "   totalTestsPeopleViralIncrease  totalTestsViral  totalTestsViralIncrease  \n",
       "0                              0       10621967.0                        0  \n",
       "1                              0       10621967.0                    37232  \n",
       "2                              0       10584735.0                    46112  \n",
       "3                              0       10538623.0                    46486  \n",
       "4                              0       10492137.0                    36453  \n",
       "\n",
       "[5 rows x 41 columns]"
      ]
     },
     "execution_count": 10,
     "metadata": {},
     "output_type": "execute_result"
    }
   ],
   "source": [
    "michigan.head()"
   ]
  },
  {
   "cell_type": "code",
   "execution_count": 13,
   "id": "21f818b9-d9d1-4b97-91da-ce72f9f24041",
   "metadata": {},
   "outputs": [
    {
     "data": {
      "text/plain": [
       "Index(['date', 'state', 'death', 'deathConfirmed', 'deathIncrease',\n",
       "       'deathProbable', 'hospitalized', 'hospitalizedCumulative',\n",
       "       'hospitalizedCurrently', 'hospitalizedIncrease', 'inIcuCumulative',\n",
       "       'inIcuCurrently', 'negative', 'negativeIncrease',\n",
       "       'negativeTestsAntibody', 'negativeTestsPeopleAntibody',\n",
       "       'negativeTestsViral', 'onVentilatorCumulative', 'onVentilatorCurrently',\n",
       "       'positive', 'positiveCasesViral', 'positiveIncrease', 'positiveScore',\n",
       "       'positiveTestsAntibody', 'positiveTestsAntigen',\n",
       "       'positiveTestsPeopleAntibody', 'positiveTestsPeopleAntigen',\n",
       "       'positiveTestsViral', 'recovered', 'totalTestEncountersViral',\n",
       "       'totalTestEncountersViralIncrease', 'totalTestResults',\n",
       "       'totalTestResultsIncrease', 'totalTestsAntibody', 'totalTestsAntigen',\n",
       "       'totalTestsPeopleAntibody', 'totalTestsPeopleAntigen',\n",
       "       'totalTestsPeopleViral', 'totalTestsPeopleViralIncrease',\n",
       "       'totalTestsViral', 'totalTestsViralIncrease'],\n",
       "      dtype='object')"
      ]
     },
     "execution_count": 13,
     "metadata": {},
     "output_type": "execute_result"
    }
   ],
   "source": [
    "michigan.columns"
   ]
  },
  {
   "cell_type": "code",
   "execution_count": 39,
   "id": "0fd02ce3-054d-4b00-9313-3bdcbca0a19b",
   "metadata": {
    "tags": []
   },
   "outputs": [],
   "source": [
    "# column positive = cases\n",
    "N = 5000000\n",
    "\n",
    "# initial infected proportion\n",
    "p_I0 = michigan['positive'][2] / N\n",
    "\n",
    "michigan['day_index'] = range(len(michigan))"
   ]
  },
  {
   "cell_type": "code",
   "execution_count": 52,
   "id": "98327c10-0009-4409-82d1-0806bfc76873",
   "metadata": {
    "tags": []
   },
   "outputs": [
    {
     "data": {
      "image/png": "[encoded data removed]",
      "text/plain": [
       "<Figure size 640x480 with 1 Axes>"
      ]
     },
     "metadata": {},
     "output_type": "display_data"
    }
   ],
   "source": [
    "# parameter values: https://jckantor.github.io/CBE30338/03.09-COVID-19.html\n",
    "R0 = 2.4\n",
    "t_infective = 5.1 + 3.3\n",
    "\n",
    "gamma = 1/t_infective\n",
    "beta = R0*gamma # transmission rate (beta) and recovery rate (gamma)\n",
    "\n",
    "sir = SIR_model(len(michigan), N, p_I0, beta, gamma)\n",
    "S, I, R = sir.simulate()\n",
    "\n",
    "# Plotting\n",
    "plt.figure()\n",
    "plt.grid()\n",
    "plt.title(\"SIR Model Simulation\")\n",
    "plt.plot(michigan['day_index'], S, 'orange', label='Susceptible')\n",
    "plt.plot(michigan['day_index'], I, 'r', label='Infected')\n",
    "plt.plot(michigan['day_index'], R, 'g', label='Recovered with immunity')\n",
    "plt.xlabel('Date')\n",
    "plt.ylabel('Number of Individuals')\n",
    "plt.ylim([0, N])\n",
    "plt.legend()\n",
    "plt.xticks(rotation=45)  # Rotate dates for better visibility\n",
    "plt.show()"
   ]
  },
  {
   "cell_type": "code",
   "execution_count": 51,
   "id": "ee1fe941-c1d4-4e64-a578-c205203b2d5f",
   "metadata": {
    "tags": []
   },
   "outputs": [
    {
     "data": {
      "image/png": "[encoded data removed]",
      "text/plain": [
       "<Figure size 640x480 with 1 Axes>"
      ]
     },
     "metadata": {},
     "output_type": "display_data"
    }
   ],
   "source": [
    "plt.figure()\n",
    "plt.grid()\n",
    "plt.title(\"SIR Model Infection\")\n",
    "plt.plot(michigan['day_index'], I, 'r', label='SIR: Infected')\n",
    "plt.plot(michigan['day_index'], michigan[\"positive\"], 'g', label='Actual Infected')\n",
    "plt.xlabel('Date')\n",
    "plt.ylabel('Number of Individuals')\n",
    "plt.ylim([0, N])\n",
    "plt.legend()\n",
    "plt.xticks(rotation=45)  # Rotate dates for better visibility\n",
    "plt.show()"
   ]
  },
  {
   "cell_type": "code",
   "execution_count": null,
   "id": "954b2ac0-fb27-4d5f-a780-73b8df671cd3",
   "metadata": {},
   "outputs": [],
   "source": []
  }
 ],
 "metadata": {
  "kernelspec": {
   "display_name": "Python 3 (ipykernel)",
   "language": "python",
   "name": "python3"
  },
  "language_info": {
   "codemirror_mode": {
    "name": "ipython",
    "version": 3
   },
   "file_extension": ".py",
   "mimetype": "text/x-python",
   "name": "python",
   "nbconvert_exporter": "python",
   "pygments_lexer": "ipython3",
   "version": "3.11.5"
  }
 },
 "nbformat": 4,
 "nbformat_minor": 5
}
