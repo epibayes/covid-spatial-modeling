{
 "cells": [
  {
   "cell_type": "code",
   "execution_count": 1,
   "id": "790b3da3-b6b1-4cbb-8bc9-7a03c9515aa1",
   "metadata": {
    "tags": []
   },
   "outputs": [],
   "source": [
    "import numpy as np\n",
    "import matplotlib.pyplot as plt\n",
    "import pandas as pd\n",
    "import scipy.stats as stats"
   ]
  },
  {
   "cell_type": "code",
   "execution_count": 46,
   "id": "85057e66-809a-4a4b-9c88-9273cf1a2ba8",
   "metadata": {
    "tags": []
   },
   "outputs": [],
   "source": [
    "case_county = pd.read_excel(\"data/Cases and Deaths by County 2024-01-23.xlsx\")\n",
    "case_county_date = pd.read_excel(\"data/Cases and Deaths by County and by Date of Symptom Onset or by Date of Death2024-01-23.xlsx\")\n",
    "case_demographics_state = pd.read_excel(\"data/Cases by Demographics Statewide 2024-01-23.xlsx\")"
   ]
  },
  {
   "cell_type": "code",
   "execution_count": 47,
   "id": "64d7a162-89ea-47a1-a196-a929a63d6786",
   "metadata": {
    "tags": []
   },
   "outputs": [
    {
     "data": {
      "text/html": [
       "<div>\n",
       "<style scoped>\n",
       "    .dataframe tbody tr th:only-of-type {\n",
       "        vertical-align: middle;\n",
       "    }\n",
       "\n",
       "    .dataframe tbody tr th {\n",
       "        vertical-align: top;\n",
       "    }\n",
       "\n",
       "    .dataframe thead th {\n",
       "        text-align: right;\n",
       "    }\n",
       "</style>\n",
       "<table border=\"1\" class=\"dataframe\">\n",
       "  <thead>\n",
       "    <tr style=\"text-align: right;\">\n",
       "      <th></th>\n",
       "      <th>COUNTY</th>\n",
       "      <th>CASE_STATUS</th>\n",
       "      <th>Cases</th>\n",
       "      <th>Deaths</th>\n",
       "      <th>Updated</th>\n",
       "    </tr>\n",
       "  </thead>\n",
       "  <tbody>\n",
       "    <tr>\n",
       "      <th>0</th>\n",
       "      <td>Alcona</td>\n",
       "      <td>Confirmed</td>\n",
       "      <td>1625</td>\n",
       "      <td>72</td>\n",
       "      <td>2024-01-23</td>\n",
       "    </tr>\n",
       "    <tr>\n",
       "      <th>1</th>\n",
       "      <td>Alcona</td>\n",
       "      <td>Probable</td>\n",
       "      <td>492</td>\n",
       "      <td>11</td>\n",
       "      <td>2024-01-23</td>\n",
       "    </tr>\n",
       "    <tr>\n",
       "      <th>2</th>\n",
       "      <td>Alger</td>\n",
       "      <td>Confirmed</td>\n",
       "      <td>1331</td>\n",
       "      <td>10</td>\n",
       "      <td>2024-01-23</td>\n",
       "    </tr>\n",
       "    <tr>\n",
       "      <th>3</th>\n",
       "      <td>Alger</td>\n",
       "      <td>Probable</td>\n",
       "      <td>935</td>\n",
       "      <td>13</td>\n",
       "      <td>2024-01-23</td>\n",
       "    </tr>\n",
       "    <tr>\n",
       "      <th>4</th>\n",
       "      <td>Allegan</td>\n",
       "      <td>Confirmed</td>\n",
       "      <td>28206</td>\n",
       "      <td>336</td>\n",
       "      <td>2024-01-23</td>\n",
       "    </tr>\n",
       "  </tbody>\n",
       "</table>\n",
       "</div>"
      ],
      "text/plain": [
       "    COUNTY CASE_STATUS  Cases  Deaths     Updated\n",
       "0   Alcona   Confirmed   1625      72  2024-01-23\n",
       "1   Alcona    Probable    492      11  2024-01-23\n",
       "2    Alger   Confirmed   1331      10  2024-01-23\n",
       "3    Alger    Probable    935      13  2024-01-23\n",
       "4  Allegan   Confirmed  28206     336  2024-01-23"
      ]
     },
     "execution_count": 47,
     "metadata": {},
     "output_type": "execute_result"
    }
   ],
   "source": [
    "case_county['Updated'] = pd.to_datetime(case_county['Updated'])\n",
    "case_county['Updated'] = case_county['Updated'].dt.date\n",
    "case_county.head()"
   ]
  },
  {
   "cell_type": "code",
   "execution_count": 48,
   "id": "464acb2a-40bf-4d5c-a316-a8f9189f8042",
   "metadata": {
    "tags": []
   },
   "outputs": [
    {
     "data": {
      "text/html": [
       "<div>\n",
       "<style scoped>\n",
       "    .dataframe tbody tr th:only-of-type {\n",
       "        vertical-align: middle;\n",
       "    }\n",
       "\n",
       "    .dataframe tbody tr th {\n",
       "        vertical-align: top;\n",
       "    }\n",
       "\n",
       "    .dataframe thead th {\n",
       "        text-align: right;\n",
       "    }\n",
       "</style>\n",
       "<table border=\"1\" class=\"dataframe\">\n",
       "  <thead>\n",
       "    <tr style=\"text-align: right;\">\n",
       "      <th></th>\n",
       "      <th>COUNTY</th>\n",
       "      <th>Date</th>\n",
       "      <th>CASE_STATUS</th>\n",
       "      <th>Cases</th>\n",
       "      <th>Deaths</th>\n",
       "      <th>Cases.Cumulative</th>\n",
       "      <th>Deaths.Cumulative</th>\n",
       "      <th>Updated</th>\n",
       "    </tr>\n",
       "  </thead>\n",
       "  <tbody>\n",
       "    <tr>\n",
       "      <th>0</th>\n",
       "      <td>Alcona</td>\n",
       "      <td>2020-03-01</td>\n",
       "      <td>Confirmed</td>\n",
       "      <td>0</td>\n",
       "      <td>0</td>\n",
       "      <td>0</td>\n",
       "      <td>0</td>\n",
       "      <td>2024-01-23</td>\n",
       "    </tr>\n",
       "    <tr>\n",
       "      <th>1</th>\n",
       "      <td>Alcona</td>\n",
       "      <td>2020-03-02</td>\n",
       "      <td>Confirmed</td>\n",
       "      <td>0</td>\n",
       "      <td>0</td>\n",
       "      <td>0</td>\n",
       "      <td>0</td>\n",
       "      <td>2024-01-23</td>\n",
       "    </tr>\n",
       "    <tr>\n",
       "      <th>2</th>\n",
       "      <td>Alcona</td>\n",
       "      <td>2020-03-03</td>\n",
       "      <td>Confirmed</td>\n",
       "      <td>0</td>\n",
       "      <td>0</td>\n",
       "      <td>0</td>\n",
       "      <td>0</td>\n",
       "      <td>2024-01-23</td>\n",
       "    </tr>\n",
       "    <tr>\n",
       "      <th>3</th>\n",
       "      <td>Alcona</td>\n",
       "      <td>2020-03-04</td>\n",
       "      <td>Confirmed</td>\n",
       "      <td>0</td>\n",
       "      <td>0</td>\n",
       "      <td>0</td>\n",
       "      <td>0</td>\n",
       "      <td>2024-01-23</td>\n",
       "    </tr>\n",
       "    <tr>\n",
       "      <th>4</th>\n",
       "      <td>Alcona</td>\n",
       "      <td>2020-03-05</td>\n",
       "      <td>Confirmed</td>\n",
       "      <td>0</td>\n",
       "      <td>0</td>\n",
       "      <td>0</td>\n",
       "      <td>0</td>\n",
       "      <td>2024-01-23</td>\n",
       "    </tr>\n",
       "  </tbody>\n",
       "</table>\n",
       "</div>"
      ],
      "text/plain": [
       "   COUNTY       Date CASE_STATUS  Cases  Deaths  Cases.Cumulative  \\\n",
       "0  Alcona 2020-03-01   Confirmed      0       0                 0   \n",
       "1  Alcona 2020-03-02   Confirmed      0       0                 0   \n",
       "2  Alcona 2020-03-03   Confirmed      0       0                 0   \n",
       "3  Alcona 2020-03-04   Confirmed      0       0                 0   \n",
       "4  Alcona 2020-03-05   Confirmed      0       0                 0   \n",
       "\n",
       "   Deaths.Cumulative     Updated  \n",
       "0                  0  2024-01-23  \n",
       "1                  0  2024-01-23  \n",
       "2                  0  2024-01-23  \n",
       "3                  0  2024-01-23  \n",
       "4                  0  2024-01-23  "
      ]
     },
     "execution_count": 48,
     "metadata": {},
     "output_type": "execute_result"
    }
   ],
   "source": [
    "case_county_date['Updated'] = pd.to_datetime(case_county_date['Updated'])\n",
    "case_county_date['Updated'] = case_county_date['Updated'].dt.date\n",
    "case_county_date.head()"
   ]
  },
  {
   "cell_type": "code",
   "execution_count": 49,
   "id": "8c8d2efd-836c-419c-bcb5-e60c1071df01",
   "metadata": {
    "tags": []
   },
   "outputs": [
    {
     "data": {
      "text/html": [
       "<div>\n",
       "<style scoped>\n",
       "    .dataframe tbody tr th:only-of-type {\n",
       "        vertical-align: middle;\n",
       "    }\n",
       "\n",
       "    .dataframe tbody tr th {\n",
       "        vertical-align: top;\n",
       "    }\n",
       "\n",
       "    .dataframe thead th {\n",
       "        text-align: right;\n",
       "    }\n",
       "</style>\n",
       "<table border=\"1\" class=\"dataframe\">\n",
       "  <thead>\n",
       "    <tr style=\"text-align: right;\">\n",
       "      <th></th>\n",
       "      <th>CASE_STATUS</th>\n",
       "      <th>AgeCat</th>\n",
       "      <th>RaceCat</th>\n",
       "      <th>SEX</th>\n",
       "      <th>Cases</th>\n",
       "      <th>Deaths</th>\n",
       "    </tr>\n",
       "  </thead>\n",
       "  <tbody>\n",
       "    <tr>\n",
       "      <th>0</th>\n",
       "      <td>Confirmed</td>\n",
       "      <td>0-9 years</td>\n",
       "      <td>American Indian/Alaska Native</td>\n",
       "      <td>Female</td>\n",
       "      <td>666.0</td>\n",
       "      <td>0</td>\n",
       "    </tr>\n",
       "    <tr>\n",
       "      <th>1</th>\n",
       "      <td>Probable</td>\n",
       "      <td>0-9 years</td>\n",
       "      <td>American Indian/Alaska Native</td>\n",
       "      <td>Female</td>\n",
       "      <td>264.0</td>\n",
       "      <td>0</td>\n",
       "    </tr>\n",
       "    <tr>\n",
       "      <th>2</th>\n",
       "      <td>Confirmed</td>\n",
       "      <td>10-19 years</td>\n",
       "      <td>American Indian/Alaska Native</td>\n",
       "      <td>Female</td>\n",
       "      <td>1110.0</td>\n",
       "      <td>0</td>\n",
       "    </tr>\n",
       "    <tr>\n",
       "      <th>3</th>\n",
       "      <td>Probable</td>\n",
       "      <td>10-19 years</td>\n",
       "      <td>American Indian/Alaska Native</td>\n",
       "      <td>Female</td>\n",
       "      <td>516.0</td>\n",
       "      <td>0</td>\n",
       "    </tr>\n",
       "    <tr>\n",
       "      <th>4</th>\n",
       "      <td>Confirmed</td>\n",
       "      <td>20-29 years</td>\n",
       "      <td>American Indian/Alaska Native</td>\n",
       "      <td>Female</td>\n",
       "      <td>1702.0</td>\n",
       "      <td>0</td>\n",
       "    </tr>\n",
       "  </tbody>\n",
       "</table>\n",
       "</div>"
      ],
      "text/plain": [
       "  CASE_STATUS       AgeCat                        RaceCat     SEX   Cases  \\\n",
       "0   Confirmed    0-9 years  American Indian/Alaska Native  Female   666.0   \n",
       "1    Probable    0-9 years  American Indian/Alaska Native  Female   264.0   \n",
       "2   Confirmed  10-19 years  American Indian/Alaska Native  Female  1110.0   \n",
       "3    Probable  10-19 years  American Indian/Alaska Native  Female   516.0   \n",
       "4   Confirmed  20-29 years  American Indian/Alaska Native  Female  1702.0   \n",
       "\n",
       "  Deaths  \n",
       "0      0  \n",
       "1      0  \n",
       "2      0  \n",
       "3      0  \n",
       "4      0  "
      ]
     },
     "execution_count": 49,
     "metadata": {},
     "output_type": "execute_result"
    }
   ],
   "source": [
    "case_demographics_state[\"Cases\"] = pd.to_numeric(case_demographics_state[\"Cases\"], errors='coerce')\n",
    "case_demographics_state.head()"
   ]
  },
  {
   "cell_type": "code",
   "execution_count": 57,
   "id": "5ee408ae-d3fb-4db0-9048-3231a1b4e552",
   "metadata": {
    "tags": []
   },
   "outputs": [
    {
     "name": "stdout",
     "output_type": "stream",
     "text": [
      "['American Indian/Alaska Native' 'Asian/Pacific Islander'\n",
      " 'Black/African American' 'Multiple Races' 'Other' 'Unknown' 'White']\n",
      "7\n"
     ]
    }
   ],
   "source": [
    "race = case_demographics_state[\"RaceCat\"].value_counts().index.values\n",
    "print(race)\n",
    "print(len(race))\n",
    "# age = case_demographics_state[\"AgeCat\"].value_counts().index.values\n",
    "# print(age)\n",
    "# print(len(age))"
   ]
  },
  {
   "cell_type": "code",
   "execution_count": 58,
   "id": "a2c31f3c-3c08-4433-abe8-2f9a5a7de80d",
   "metadata": {
    "tags": []
   },
   "outputs": [
    {
     "name": "stdout",
     "output_type": "stream",
     "text": [
      "[0.006, 0.02, 0.12, 0.016, 0.053, 0.22, 0.565]\n"
     ]
    }
   ],
   "source": [
    "def calculate_prop(df, column):\n",
    "    total_cases = df[\"Cases\"].sum()\n",
    "    prop_list = []\n",
    "    for category in df[column].unique():\n",
    "        category_cases = df[df[column] == category][\"Cases\"].sum()\n",
    "        proportion = round(category_cases / total_cases, 3)  # Rounding to the third decimal place\n",
    "        prop_list.append(proportion)\n",
    "    return prop_list\n",
    "\n",
    "# p_age = calculate_prop(case_demographics_state, 'AgeCat')\n",
    "p_race = calculate_prop(case_demographics_state, 'RaceCat')\n",
    "print(p_race)"
   ]
  },
  {
   "cell_type": "code",
   "execution_count": 59,
   "id": "b0233482-3940-4ae9-9e05-231e9442fac0",
   "metadata": {
    "tags": []
   },
   "outputs": [],
   "source": [
    "# Asian / Pacific Islander\n",
    "# Black / African American\n",
    "# Multiple Races\n",
    "# Other (combines)\n",
    "# White\n",
    "p_race = [0.02, 0.12, 0.016, 0.053+0.22+0.006, 0.565]"
   ]
  },
  {
   "cell_type": "code",
   "execution_count": 55,
   "id": "d4f0cd71-5018-43da-baea-84737035c11e",
   "metadata": {
    "tags": []
   },
   "outputs": [],
   "source": [
    "pop_mi = case_demographics_state[\"Cases\"].sum()"
   ]
  },
  {
   "cell_type": "code",
   "execution_count": null,
   "id": "b5a4a4ec-f718-4577-961e-1ccd1730510b",
   "metadata": {},
   "outputs": [],
   "source": []
  }
 ],
 "metadata": {
  "kernelspec": {
   "display_name": "Python 3 (ipykernel)",
   "language": "python",
   "name": "python3"
  },
  "language_info": {
   "codemirror_mode": {
    "name": "ipython",
    "version": 3
   },
   "file_extension": ".py",
   "mimetype": "text/x-python",
   "name": "python",
   "nbconvert_exporter": "python",
   "pygments_lexer": "ipython3",
   "version": "3.11.5"
  }
 },
 "nbformat": 4,
 "nbformat_minor": 5
}
