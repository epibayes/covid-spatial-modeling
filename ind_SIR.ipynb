{
 "cells": [
  {
   "cell_type": "code",
   "execution_count": 3,
   "id": "b6974f1f-94d0-4b96-af6d-f1e62e04bc22",
   "metadata": {
    "tags": []
   },
   "outputs": [
    {
     "name": "stdout",
     "output_type": "stream",
     "text": [
      "Time Step 1: 1 infected individuals\n",
      "Time Step 2: 1 infected individuals\n",
      "Time Step 3: 1 infected individuals\n",
      "Time Step 4: 1 infected individuals\n",
      "Time Step 5: 1 infected individuals\n",
      "Time Step 6: 1 infected individuals\n",
      "Time Step 7: 2 infected individuals\n",
      "Time Step 8: 4 infected individuals\n",
      "Time Step 9: 5 infected individuals\n",
      "Time Step 10: 5 infected individuals\n",
      "Time Step 11: 8 infected individuals\n",
      "Time Step 12: 10 infected individuals\n",
      "Time Step 13: 12 infected individuals\n",
      "Time Step 14: 15 infected individuals\n",
      "Time Step 15: 19 infected individuals\n",
      "Time Step 16: 25 infected individuals\n",
      "Time Step 17: 31 infected individuals\n",
      "Time Step 18: 42 infected individuals\n",
      "Time Step 19: 51 infected individuals\n",
      "Time Step 20: 66 infected individuals\n",
      "Time Step 21: 82 infected individuals\n",
      "Time Step 22: 100 infected individuals\n",
      "Time Step 23: 122 infected individuals\n",
      "Time Step 24: 144 infected individuals\n",
      "Time Step 25: 177 infected individuals\n",
      "Time Step 26: 222 infected individuals\n",
      "Time Step 27: 272 infected individuals\n",
      "Time Step 28: 334 infected individuals\n",
      "Time Step 29: 396 infected individuals\n",
      "Time Step 30: 474 infected individuals\n",
      "Time Step 31: 547 infected individuals\n",
      "Time Step 32: 608 infected individuals\n",
      "Time Step 33: 675 infected individuals\n",
      "Time Step 34: 737 infected individuals\n",
      "Time Step 35: 793 infected individuals\n",
      "Time Step 36: 834 infected individuals\n",
      "Time Step 37: 867 infected individuals\n",
      "Time Step 38: 898 infected individuals\n",
      "Time Step 39: 924 infected individuals\n",
      "Time Step 40: 945 infected individuals\n",
      "Time Step 41: 965 infected individuals\n",
      "Time Step 42: 977 infected individuals\n",
      "Time Step 43: 985 infected individuals\n",
      "Time Step 44: 988 infected individuals\n",
      "Time Step 45: 990 infected individuals\n",
      "Time Step 46: 992 infected individuals\n",
      "Time Step 47: 996 infected individuals\n",
      "Time Step 48: 999 infected individuals\n",
      "Time Step 49: 999 infected individuals\n",
      "Time Step 50: 999 infected individuals\n"
     ]
    }
   ],
   "source": [
    "import numpy as np\n",
    "\n",
    "N = 1000  \n",
    "I0 = 1    \n",
    "beta = 0.3\n",
    "time_steps = 50 \n",
    "\n",
    "# 0 for susceptible, 1 for infected\n",
    "population_status = np.zeros(N)\n",
    "population_status[np.random.choice(range(N), I0, replace=False)] = 1\n",
    "\n",
    "# simulation\n",
    "for t in range(time_steps):\n",
    "    infected_count = np.sum(population_status == 1)\n",
    "    for i in range(N):\n",
    "        if population_status[i] == 0:  \n",
    "            lambda_i = beta * (infected_count / N)  # force of infection\n",
    "            prob_infection = 1 - np.exp(-lambda_i)  \n",
    "            if np.random.rand() < prob_infection:  \n",
    "                population_status[i] = 1 \n",
    "                \n",
    "    print(f\"Time Step {t+1}: {np.sum(population_status == 1)} infected individuals\")\n"
   ]
  },
  {
   "cell_type": "code",
   "execution_count": null,
   "id": "472c46da-bc1f-4493-887d-fc65cfb7c599",
   "metadata": {},
   "outputs": [],
   "source": []
  }
 ],
 "metadata": {
  "kernelspec": {
   "display_name": "Python 3 (ipykernel)",
   "language": "python",
   "name": "python3"
  },
  "language_info": {
   "codemirror_mode": {
    "name": "ipython",
    "version": 3
   },
   "file_extension": ".py",
   "mimetype": "text/x-python",
   "name": "python",
   "nbconvert_exporter": "python",
   "pygments_lexer": "ipython3",
   "version": "3.11.5"
  }
 },
 "nbformat": 4,
 "nbformat_minor": 5
}
