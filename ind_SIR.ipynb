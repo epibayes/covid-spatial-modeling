{
 "cells": [
  {
   "cell_type": "code",
   "execution_count": 5,
   "id": "b6974f1f-94d0-4b96-af6d-f1e62e04bc22",
   "metadata": {
    "tags": []
   },
   "outputs": [
    {
     "name": "stdout",
     "output_type": "stream",
     "text": [
      "Time Step 1: 2 infected individuals\n",
      "Time Step 2: 3 infected individuals\n",
      "Time Step 3: 3 infected individuals\n",
      "Time Step 4: 3 infected individuals\n",
      "Time Step 5: 3 infected individuals\n",
      "Time Step 6: 3 infected individuals\n",
      "Time Step 7: 5 infected individuals\n",
      "Time Step 8: 7 infected individuals\n",
      "Time Step 9: 9 infected individuals\n",
      "Time Step 10: 13 infected individuals\n",
      "Time Step 11: 15 infected individuals\n",
      "Time Step 12: 20 infected individuals\n",
      "Time Step 13: 26 infected individuals\n",
      "Time Step 14: 28 infected individuals\n",
      "Time Step 15: 33 infected individuals\n",
      "Time Step 16: 42 infected individuals\n",
      "Time Step 17: 60 infected individuals\n",
      "Time Step 18: 77 infected individuals\n",
      "Time Step 19: 98 infected individuals\n",
      "Time Step 20: 128 infected individuals\n",
      "Time Step 21: 155 infected individuals\n",
      "Time Step 22: 187 infected individuals\n",
      "Time Step 23: 226 infected individuals\n",
      "Time Step 24: 275 infected individuals\n",
      "Time Step 25: 347 infected individuals\n",
      "Time Step 26: 417 infected individuals\n",
      "Time Step 27: 493 infected individuals\n",
      "Time Step 28: 564 infected individuals\n",
      "Time Step 29: 636 infected individuals\n",
      "Time Step 30: 699 infected individuals\n",
      "Time Step 31: 759 infected individuals\n",
      "Time Step 32: 810 infected individuals\n",
      "Time Step 33: 853 infected individuals\n",
      "Time Step 34: 885 infected individuals\n",
      "Time Step 35: 916 infected individuals\n",
      "Time Step 36: 938 infected individuals\n",
      "Time Step 37: 953 infected individuals\n",
      "Time Step 38: 961 infected individuals\n",
      "Time Step 39: 970 infected individuals\n",
      "Time Step 40: 979 infected individuals\n",
      "Time Step 41: 982 infected individuals\n",
      "Time Step 42: 989 infected individuals\n",
      "Time Step 43: 992 infected individuals\n",
      "Time Step 44: 995 infected individuals\n",
      "Time Step 45: 995 infected individuals\n",
      "Time Step 46: 997 infected individuals\n",
      "Time Step 47: 998 infected individuals\n",
      "Time Step 48: 998 infected individuals\n",
      "Time Step 49: 999 infected individuals\n",
      "Time Step 50: 999 infected individuals\n"
     ]
    }
   ],
   "source": [
    "import numpy as np\n",
    "\n",
    "N = 1000  \n",
    "I0 = 1    \n",
    "beta = 0.3\n",
    "time_steps = 50 \n",
    "\n",
    "# 0 for susceptible\n",
    "# 1 for infected\n",
    "population_status = np.zeros(N)\n",
    "population_status[np.random.choice(range(N), I0, replace=False)] = 1\n",
    "\n",
    "# simulation\n",
    "for t in range(time_steps):\n",
    "    infected_count = np.sum(population_status == 1)\n",
    "    for i in range(N):\n",
    "        if population_status[i] == 0:  \n",
    "            lambda_i = beta * (infected_count / N)  # force of infection\n",
    "            prob_infection = 1 - np.exp(-lambda_i)  \n",
    "            if np.random.rand() < prob_infection:  \n",
    "                population_status[i] = 1 \n",
    "                \n",
    "    print(f\"Time Step {t+1}: {np.sum(population_status == 1)} infected individuals\")"
   ]
  },
  {
   "cell_type": "code",
   "execution_count": null,
   "id": "472c46da-bc1f-4493-887d-fc65cfb7c599",
   "metadata": {},
   "outputs": [],
   "source": []
  }
 ],
 "metadata": {
  "kernelspec": {
   "display_name": "Python 3 (ipykernel)",
   "language": "python",
   "name": "python3"
  },
  "language_info": {
   "codemirror_mode": {
    "name": "ipython",
    "version": 3
   },
   "file_extension": ".py",
   "mimetype": "text/x-python",
   "name": "python",
   "nbconvert_exporter": "python",
   "pygments_lexer": "ipython3",
   "version": "3.11.5"
  }
 },
 "nbformat": 4,
 "nbformat_minor": 5
}
