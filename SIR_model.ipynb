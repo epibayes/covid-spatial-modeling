{
 "cells": [
  {
   "cell_type": "code",
   "execution_count": 3,
   "id": "08d5a737-7ca1-45cf-b6e7-c2791fc085a5",
   "metadata": {},
   "outputs": [],
   "source": [
    "import numpy as np\n",
    "import matplotlib.pyplot as plt\n",
    "import pandas as pd"
   ]
  },
  {
   "cell_type": "code",
   "execution_count": null,
   "id": "520cdad9-5941-4ef1-9c28-bfaf801b672e",
   "metadata": {},
   "outputs": [],
   "source": [
    "class SIR_model(self):\n",
    "    def __init__(self, timesteps, pop_size, prop_init_infected, beta, gamma):\n",
    "        self.T = timesteps\n",
    "        self.N = pop_size\n",
    "        self.p_I0  = prop_init_infected\n",
    "        self.beta = beta # transmission rate\n",
    "        self.gamma = gamma # average rate of recovery (cases / timesteps)\n",
    "\n",
    "        self.S = np.zeros(timesteps)\n",
    "        self.I = np.zeros(timesteps)\n",
    "        self.R = np.zeros(timesteps)\n",
    "\n",
    "\n",
    "    def simulate(self):\n",
    "        pass\n",
    "    # initialize S, I, and R\n",
    "    # for t in range(1, self.T):\n",
    "    # do some stufff"
   ]
  },
  {
   "cell_type": "markdown",
   "id": "7a5e612b-8149-4829-b625-c7f7b894579a",
   "metadata": {},
   "source": [
    "What is $\\beta$? A combination of how many people are contacted per day (contact rate) and how likely a sick person is to transmit the disease (force of infection)"
   ]
  },
  {
   "cell_type": "code",
   "execution_count": null,
   "id": "b34ffbb7-7b82-4f03-9431-b84584258978",
   "metadata": {},
   "outputs": [],
   "source": [
    "# sir = SIR_model()\n",
    "# https://jckantor.github.io/CBE30338/03.09-COVID-19.html\n",
    "# infection period (1/gamma) is 8.4 days\n",
    "# R_o is 2.4 (beta / gamma) or (recovery_time / time_between contacts)\n",
    "# avg. number of people infected by a hypothetical case in a fully susceptible population\n",
    "# think: "
   ]
  },
  {
   "cell_type": "code",
   "execution_count": null,
   "id": "f4dbcda3-a816-4546-bc6a-848cb79d2e40",
   "metadata": {},
   "outputs": [],
   "source": [
    "\"plt.plot(x, model.S / N, label=\\\"Susceptible\\\")\\n\",\n",
    "\"plt.plot(x, model.I/N, label=\\\"Infected\\\")\\n\",\n",
    "\"plt.ylim(0, 1.1)\\n\",\n",
    "\"plt.legend(loc=\\\"upper right\\\")\\n\",\n",
    "\"plt.show()\""
   ]
  },
  {
   "cell_type": "code",
   "execution_count": 7,
   "id": "26aaa5b3-1287-4c98-9176-2962fe4a267e",
   "metadata": {},
   "outputs": [],
   "source": [
    "# english boarding school flu epidemic\n",
    "df = pd.read_csv(\"https://bit.ly/2vDqAYN\", sep=\"\\t\")\n",
    "# N = 763\n",
    "# R_0 between 1 and 2\n",
    "# infection period: ballpark 5-7 days"
   ]
  },
  {
   "cell_type": "code",
   "execution_count": 8,
   "id": "7438d7df-873f-4bed-b5cb-b87e2324bc37",
   "metadata": {},
   "outputs": [
    {
     "data": {
      "text/html": [
       "<div>\n",
       "<style scoped>\n",
       "    .dataframe tbody tr th:only-of-type {\n",
       "        vertical-align: middle;\n",
       "    }\n",
       "\n",
       "    .dataframe tbody tr th {\n",
       "        vertical-align: top;\n",
       "    }\n",
       "\n",
       "    .dataframe thead th {\n",
       "        text-align: right;\n",
       "    }\n",
       "</style>\n",
       "<table border=\"1\" class=\"dataframe\">\n",
       "  <thead>\n",
       "    <tr style=\"text-align: right;\">\n",
       "      <th></th>\n",
       "      <th>day</th>\n",
       "      <th>cases</th>\n",
       "    </tr>\n",
       "  </thead>\n",
       "  <tbody>\n",
       "    <tr>\n",
       "      <th>0</th>\n",
       "      <td>0</td>\n",
       "      <td>1</td>\n",
       "    </tr>\n",
       "    <tr>\n",
       "      <th>1</th>\n",
       "      <td>1</td>\n",
       "      <td>6</td>\n",
       "    </tr>\n",
       "    <tr>\n",
       "      <th>2</th>\n",
       "      <td>2</td>\n",
       "      <td>26</td>\n",
       "    </tr>\n",
       "    <tr>\n",
       "      <th>3</th>\n",
       "      <td>3</td>\n",
       "      <td>73</td>\n",
       "    </tr>\n",
       "    <tr>\n",
       "      <th>4</th>\n",
       "      <td>4</td>\n",
       "      <td>222</td>\n",
       "    </tr>\n",
       "    <tr>\n",
       "      <th>5</th>\n",
       "      <td>5</td>\n",
       "      <td>293</td>\n",
       "    </tr>\n",
       "    <tr>\n",
       "      <th>6</th>\n",
       "      <td>6</td>\n",
       "      <td>258</td>\n",
       "    </tr>\n",
       "    <tr>\n",
       "      <th>7</th>\n",
       "      <td>7</td>\n",
       "      <td>236</td>\n",
       "    </tr>\n",
       "    <tr>\n",
       "      <th>8</th>\n",
       "      <td>8</td>\n",
       "      <td>191</td>\n",
       "    </tr>\n",
       "    <tr>\n",
       "      <th>9</th>\n",
       "      <td>9</td>\n",
       "      <td>124</td>\n",
       "    </tr>\n",
       "    <tr>\n",
       "      <th>10</th>\n",
       "      <td>10</td>\n",
       "      <td>69</td>\n",
       "    </tr>\n",
       "    <tr>\n",
       "      <th>11</th>\n",
       "      <td>11</td>\n",
       "      <td>26</td>\n",
       "    </tr>\n",
       "    <tr>\n",
       "      <th>12</th>\n",
       "      <td>12</td>\n",
       "      <td>11</td>\n",
       "    </tr>\n",
       "    <tr>\n",
       "      <th>13</th>\n",
       "      <td>13</td>\n",
       "      <td>4</td>\n",
       "    </tr>\n",
       "  </tbody>\n",
       "</table>\n",
       "</div>"
      ],
      "text/plain": [
       "    day  cases\n",
       "0     0      1\n",
       "1     1      6\n",
       "2     2     26\n",
       "3     3     73\n",
       "4     4    222\n",
       "5     5    293\n",
       "6     6    258\n",
       "7     7    236\n",
       "8     8    191\n",
       "9     9    124\n",
       "10   10     69\n",
       "11   11     26\n",
       "12   12     11\n",
       "13   13      4"
      ]
     },
     "execution_count": 8,
     "metadata": {},
     "output_type": "execute_result"
    }
   ],
   "source": [
    "df"
   ]
  },
  {
   "cell_type": "code",
   "execution_count": null,
   "id": "0cfceb69-d0c5-4c68-b010-17463e5bf751",
   "metadata": {},
   "outputs": [],
   "source": []
  }
 ],
 "metadata": {
  "kernelspec": {
   "display_name": "Python 3 (ipykernel)",
   "language": "python",
   "name": "python3"
  },
  "language_info": {
   "codemirror_mode": {
    "name": "ipython",
    "version": 3
   },
   "file_extension": ".py",
   "mimetype": "text/x-python",
   "name": "python",
   "nbconvert_exporter": "python",
   "pygments_lexer": "ipython3",
   "version": "3.11.7"
  }
 },
 "nbformat": 4,
 "nbformat_minor": 5
}
